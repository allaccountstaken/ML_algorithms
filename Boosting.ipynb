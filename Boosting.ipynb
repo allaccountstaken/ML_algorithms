{
 "cells": [
  {
   "cell_type": "markdown",
   "metadata": {},
   "source": [
    "#### Boosting is an ensemble method that aggregates a number of weak models to create one string model. It effectively learns from its mistakes with each iteration. The main difference from RF is that each iteration is not independent, thus slow in training and fast in prediction."
   ]
  },
  {
   "cell_type": "markdown",
   "metadata": {},
   "source": [
    "- Gives feature importances\n",
    "- Fast prediction time, but slow training \n",
    "- Can do both , categorical and continuous\n",
    "- Lacks transparency \n",
    "- Tends to overfit, not good for very noisy data"
   ]
  },
  {
   "cell_type": "code",
   "execution_count": 1,
   "metadata": {},
   "outputs": [],
   "source": [
    "from sklearn.ensemble import GradientBoostingClassifier, GradientBoostingRegressor"
   ]
  },
  {
   "cell_type": "code",
   "execution_count": 2,
   "metadata": {},
   "outputs": [],
   "source": [
    "#GradientBoostingClassifier._get_param_names()"
   ]
  },
  {
   "cell_type": "code",
   "execution_count": 3,
   "metadata": {},
   "outputs": [],
   "source": [
    "#GradientBoostingRegressor._get_param_names()"
   ]
  },
  {
   "cell_type": "code",
   "execution_count": 4,
   "metadata": {},
   "outputs": [],
   "source": [
    "import joblib\n",
    "import pandas as pd\n",
    "from sklearn.model_selection import GridSearchCV\n",
    "import warnings\n",
    "warnings.filterwarnings('ignore', category=FutureWarning)\n",
    "warnings.filterwarnings('ignore', category=DeprecationWarning)\n",
    "\n",
    "tr_features = pd.read_csv('data/train_features.csv')\n",
    "tr_labels = pd.read_csv('data/train_labels.csv', header=None)"
   ]
  },
  {
   "cell_type": "code",
   "execution_count": 5,
   "metadata": {},
   "outputs": [],
   "source": [
    "def print_results(results):\n",
    "    print('BEST PARAMS: {}\\n'.format(results.best_params_))\n",
    "    \n",
    "    means = results.cv_results_['mean_test_score']\n",
    "    stds = results.cv_results_['std_test_score']\n",
    "    for mean, std, params in zip(means, stds, results.cv_results_['params']):\n",
    "        print('{} (+/-{}) for {}'.format(round(mean, 3), round(std * 2, 3), params) )"
   ]
  },
  {
   "cell_type": "code",
   "execution_count": 6,
   "metadata": {},
   "outputs": [
    {
     "name": "stdout",
     "output_type": "stream",
     "text": [
      "BEST PARAMS: {'learning_rate': 0.01, 'max_depth': 3, 'n_estimators': 500}\n",
      "\n",
      "0.624 (+/-0.007) for {'learning_rate': 0.01, 'max_depth': 1, 'n_estimators': 5}\n",
      "0.796 (+/-0.115) for {'learning_rate': 0.01, 'max_depth': 1, 'n_estimators': 50}\n",
      "0.796 (+/-0.115) for {'learning_rate': 0.01, 'max_depth': 1, 'n_estimators': 250}\n",
      "0.811 (+/-0.117) for {'learning_rate': 0.01, 'max_depth': 1, 'n_estimators': 500}\n",
      "0.624 (+/-0.007) for {'learning_rate': 0.01, 'max_depth': 3, 'n_estimators': 5}\n",
      "0.811 (+/-0.069) for {'learning_rate': 0.01, 'max_depth': 3, 'n_estimators': 50}\n",
      "0.83 (+/-0.074) for {'learning_rate': 0.01, 'max_depth': 3, 'n_estimators': 250}\n",
      "0.841 (+/-0.077) for {'learning_rate': 0.01, 'max_depth': 3, 'n_estimators': 500}\n",
      "0.624 (+/-0.007) for {'learning_rate': 0.01, 'max_depth': 5, 'n_estimators': 5}\n",
      "0.82 (+/-0.051) for {'learning_rate': 0.01, 'max_depth': 5, 'n_estimators': 50}\n",
      "0.818 (+/-0.043) for {'learning_rate': 0.01, 'max_depth': 5, 'n_estimators': 250}\n",
      "0.826 (+/-0.047) for {'learning_rate': 0.01, 'max_depth': 5, 'n_estimators': 500}\n",
      "0.624 (+/-0.007) for {'learning_rate': 0.01, 'max_depth': 7, 'n_estimators': 5}\n",
      "0.817 (+/-0.05) for {'learning_rate': 0.01, 'max_depth': 7, 'n_estimators': 50}\n",
      "0.818 (+/-0.04) for {'learning_rate': 0.01, 'max_depth': 7, 'n_estimators': 250}\n",
      "0.803 (+/-0.031) for {'learning_rate': 0.01, 'max_depth': 7, 'n_estimators': 500}\n",
      "0.624 (+/-0.007) for {'learning_rate': 0.01, 'max_depth': 9, 'n_estimators': 5}\n",
      "0.8 (+/-0.052) for {'learning_rate': 0.01, 'max_depth': 9, 'n_estimators': 50}\n",
      "0.801 (+/-0.042) for {'learning_rate': 0.01, 'max_depth': 9, 'n_estimators': 250}\n",
      "0.786 (+/-0.052) for {'learning_rate': 0.01, 'max_depth': 9, 'n_estimators': 500}\n",
      "0.796 (+/-0.115) for {'learning_rate': 0.1, 'max_depth': 1, 'n_estimators': 5}\n",
      "0.815 (+/-0.119) for {'learning_rate': 0.1, 'max_depth': 1, 'n_estimators': 50}\n",
      "0.818 (+/-0.111) for {'learning_rate': 0.1, 'max_depth': 1, 'n_estimators': 250}\n",
      "0.828 (+/-0.092) for {'learning_rate': 0.1, 'max_depth': 1, 'n_estimators': 500}\n",
      "0.813 (+/-0.071) for {'learning_rate': 0.1, 'max_depth': 3, 'n_estimators': 5}\n",
      "0.839 (+/-0.076) for {'learning_rate': 0.1, 'max_depth': 3, 'n_estimators': 50}\n",
      "0.82 (+/-0.022) for {'learning_rate': 0.1, 'max_depth': 3, 'n_estimators': 250}\n",
      "0.811 (+/-0.036) for {'learning_rate': 0.1, 'max_depth': 3, 'n_estimators': 500}\n",
      "0.817 (+/-0.045) for {'learning_rate': 0.1, 'max_depth': 5, 'n_estimators': 5}\n",
      "0.82 (+/-0.037) for {'learning_rate': 0.1, 'max_depth': 5, 'n_estimators': 50}\n",
      "0.807 (+/-0.03) for {'learning_rate': 0.1, 'max_depth': 5, 'n_estimators': 250}\n",
      "0.798 (+/-0.044) for {'learning_rate': 0.1, 'max_depth': 5, 'n_estimators': 500}\n",
      "0.822 (+/-0.053) for {'learning_rate': 0.1, 'max_depth': 7, 'n_estimators': 5}\n",
      "0.796 (+/-0.038) for {'learning_rate': 0.1, 'max_depth': 7, 'n_estimators': 50}\n",
      "0.794 (+/-0.033) for {'learning_rate': 0.1, 'max_depth': 7, 'n_estimators': 250}\n",
      "0.792 (+/-0.032) for {'learning_rate': 0.1, 'max_depth': 7, 'n_estimators': 500}\n",
      "0.802 (+/-0.044) for {'learning_rate': 0.1, 'max_depth': 9, 'n_estimators': 5}\n",
      "0.788 (+/-0.035) for {'learning_rate': 0.1, 'max_depth': 9, 'n_estimators': 50}\n",
      "0.787 (+/-0.048) for {'learning_rate': 0.1, 'max_depth': 9, 'n_estimators': 250}\n",
      "0.787 (+/-0.021) for {'learning_rate': 0.1, 'max_depth': 9, 'n_estimators': 500}\n",
      "0.818 (+/-0.099) for {'learning_rate': 1, 'max_depth': 1, 'n_estimators': 5}\n",
      "0.832 (+/-0.081) for {'learning_rate': 1, 'max_depth': 1, 'n_estimators': 50}\n",
      "0.826 (+/-0.077) for {'learning_rate': 1, 'max_depth': 1, 'n_estimators': 250}\n",
      "0.822 (+/-0.081) for {'learning_rate': 1, 'max_depth': 1, 'n_estimators': 500}\n",
      "0.824 (+/-0.057) for {'learning_rate': 1, 'max_depth': 3, 'n_estimators': 5}\n",
      "0.8 (+/-0.02) for {'learning_rate': 1, 'max_depth': 3, 'n_estimators': 50}\n",
      "0.781 (+/-0.03) for {'learning_rate': 1, 'max_depth': 3, 'n_estimators': 250}\n",
      "0.792 (+/-0.032) for {'learning_rate': 1, 'max_depth': 3, 'n_estimators': 500}\n",
      "0.805 (+/-0.034) for {'learning_rate': 1, 'max_depth': 5, 'n_estimators': 5}\n",
      "0.781 (+/-0.035) for {'learning_rate': 1, 'max_depth': 5, 'n_estimators': 50}\n",
      "0.788 (+/-0.039) for {'learning_rate': 1, 'max_depth': 5, 'n_estimators': 250}\n",
      "0.794 (+/-0.026) for {'learning_rate': 1, 'max_depth': 5, 'n_estimators': 500}\n",
      "0.785 (+/-0.048) for {'learning_rate': 1, 'max_depth': 7, 'n_estimators': 5}\n",
      "0.802 (+/-0.039) for {'learning_rate': 1, 'max_depth': 7, 'n_estimators': 50}\n",
      "0.794 (+/-0.021) for {'learning_rate': 1, 'max_depth': 7, 'n_estimators': 250}\n",
      "0.792 (+/-0.022) for {'learning_rate': 1, 'max_depth': 7, 'n_estimators': 500}\n",
      "0.783 (+/-0.031) for {'learning_rate': 1, 'max_depth': 9, 'n_estimators': 5}\n",
      "0.783 (+/-0.057) for {'learning_rate': 1, 'max_depth': 9, 'n_estimators': 50}\n",
      "0.801 (+/-0.037) for {'learning_rate': 1, 'max_depth': 9, 'n_estimators': 250}\n",
      "0.788 (+/-0.045) for {'learning_rate': 1, 'max_depth': 9, 'n_estimators': 500}\n",
      "0.204 (+/-0.115) for {'learning_rate': 10, 'max_depth': 1, 'n_estimators': 5}\n",
      "0.204 (+/-0.115) for {'learning_rate': 10, 'max_depth': 1, 'n_estimators': 50}\n",
      "0.204 (+/-0.115) for {'learning_rate': 10, 'max_depth': 1, 'n_estimators': 250}\n",
      "0.204 (+/-0.115) for {'learning_rate': 10, 'max_depth': 1, 'n_estimators': 500}\n",
      "0.307 (+/-0.195) for {'learning_rate': 10, 'max_depth': 3, 'n_estimators': 5}\n",
      "0.307 (+/-0.195) for {'learning_rate': 10, 'max_depth': 3, 'n_estimators': 50}\n",
      "0.307 (+/-0.195) for {'learning_rate': 10, 'max_depth': 3, 'n_estimators': 250}\n",
      "0.307 (+/-0.195) for {'learning_rate': 10, 'max_depth': 3, 'n_estimators': 500}\n",
      "0.414 (+/-0.258) for {'learning_rate': 10, 'max_depth': 5, 'n_estimators': 5}\n",
      "0.44 (+/-0.251) for {'learning_rate': 10, 'max_depth': 5, 'n_estimators': 50}\n",
      "0.414 (+/-0.264) for {'learning_rate': 10, 'max_depth': 5, 'n_estimators': 250}\n",
      "0.417 (+/-0.271) for {'learning_rate': 10, 'max_depth': 5, 'n_estimators': 500}\n",
      "0.612 (+/-0.135) for {'learning_rate': 10, 'max_depth': 7, 'n_estimators': 5}\n",
      "0.663 (+/-0.188) for {'learning_rate': 10, 'max_depth': 7, 'n_estimators': 50}\n",
      "0.601 (+/-0.182) for {'learning_rate': 10, 'max_depth': 7, 'n_estimators': 250}\n",
      "0.644 (+/-0.196) for {'learning_rate': 10, 'max_depth': 7, 'n_estimators': 500}\n",
      "0.704 (+/-0.105) for {'learning_rate': 10, 'max_depth': 9, 'n_estimators': 5}\n",
      "0.702 (+/-0.117) for {'learning_rate': 10, 'max_depth': 9, 'n_estimators': 50}\n",
      "0.68 (+/-0.081) for {'learning_rate': 10, 'max_depth': 9, 'n_estimators': 250}\n",
      "0.682 (+/-0.103) for {'learning_rate': 10, 'max_depth': 9, 'n_estimators': 500}\n",
      "0.376 (+/-0.007) for {'learning_rate': 100, 'max_depth': 1, 'n_estimators': 5}\n",
      "0.376 (+/-0.007) for {'learning_rate': 100, 'max_depth': 1, 'n_estimators': 50}\n",
      "0.376 (+/-0.007) for {'learning_rate': 100, 'max_depth': 1, 'n_estimators': 250}\n",
      "0.376 (+/-0.007) for {'learning_rate': 100, 'max_depth': 1, 'n_estimators': 500}\n",
      "0.29 (+/-0.102) for {'learning_rate': 100, 'max_depth': 3, 'n_estimators': 5}\n",
      "0.29 (+/-0.102) for {'learning_rate': 100, 'max_depth': 3, 'n_estimators': 50}\n",
      "0.29 (+/-0.102) for {'learning_rate': 100, 'max_depth': 3, 'n_estimators': 250}\n",
      "0.29 (+/-0.102) for {'learning_rate': 100, 'max_depth': 3, 'n_estimators': 500}\n",
      "0.363 (+/-0.191) for {'learning_rate': 100, 'max_depth': 5, 'n_estimators': 5}\n",
      "0.352 (+/-0.187) for {'learning_rate': 100, 'max_depth': 5, 'n_estimators': 50}\n",
      "0.352 (+/-0.187) for {'learning_rate': 100, 'max_depth': 5, 'n_estimators': 250}\n",
      "0.361 (+/-0.188) for {'learning_rate': 100, 'max_depth': 5, 'n_estimators': 500}\n",
      "0.569 (+/-0.105) for {'learning_rate': 100, 'max_depth': 7, 'n_estimators': 5}\n",
      "0.586 (+/-0.085) for {'learning_rate': 100, 'max_depth': 7, 'n_estimators': 50}\n",
      "0.594 (+/-0.116) for {'learning_rate': 100, 'max_depth': 7, 'n_estimators': 250}\n",
      "0.599 (+/-0.095) for {'learning_rate': 100, 'max_depth': 7, 'n_estimators': 500}\n",
      "0.67 (+/-0.131) for {'learning_rate': 100, 'max_depth': 9, 'n_estimators': 5}\n",
      "0.678 (+/-0.124) for {'learning_rate': 100, 'max_depth': 9, 'n_estimators': 50}\n",
      "0.702 (+/-0.126) for {'learning_rate': 100, 'max_depth': 9, 'n_estimators': 250}\n",
      "0.674 (+/-0.061) for {'learning_rate': 100, 'max_depth': 9, 'n_estimators': 500}\n"
     ]
    }
   ],
   "source": [
    "gb = GradientBoostingClassifier()\n",
    "parameters = {\n",
    "    'n_estimators' : [5, 50, 250, 500],\n",
    "    'max_depth' : [1, 3, 5, 7, 9],\n",
    "    'learning_rate' : [0.01, 0.1, 1, 10, 100]\n",
    "}\n",
    "\n",
    "cv = GridSearchCV(gb, parameters, cv=5)\n",
    "cv.fit(tr_features, tr_labels.values.ravel())\n",
    "\n",
    "print_results(cv)\n",
    "\n"
   ]
  },
  {
   "cell_type": "code",
   "execution_count": 7,
   "metadata": {},
   "outputs": [
    {
     "data": {
      "text/plain": [
       "['data/GB_model.pkl']"
      ]
     },
     "execution_count": 7,
     "metadata": {},
     "output_type": "execute_result"
    }
   ],
   "source": [
    "joblib.dump(cv.best_estimator_, 'data/GB_model.pkl')"
   ]
  },
  {
   "cell_type": "code",
   "execution_count": null,
   "metadata": {},
   "outputs": [],
   "source": []
  }
 ],
 "metadata": {
  "kernelspec": {
   "display_name": "Python 3",
   "language": "python",
   "name": "python3"
  },
  "language_info": {
   "codemirror_mode": {
    "name": "ipython",
    "version": 3
   },
   "file_extension": ".py",
   "mimetype": "text/x-python",
   "name": "python",
   "nbconvert_exporter": "python",
   "pygments_lexer": "ipython3",
   "version": "3.8.3"
  }
 },
 "nbformat": 4,
 "nbformat_minor": 4
}
