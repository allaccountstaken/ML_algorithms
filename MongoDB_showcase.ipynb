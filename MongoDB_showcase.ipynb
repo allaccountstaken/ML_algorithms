{
 "cells": [
  {
   "cell_type": "markdown",
   "metadata": {},
   "source": [
    "## Creating Mongo DB"
   ]
  },
  {
   "cell_type": "code",
   "execution_count": 96,
   "metadata": {},
   "outputs": [],
   "source": [
    "import pymongo"
   ]
  },
  {
   "cell_type": "code",
   "execution_count": 35,
   "metadata": {},
   "outputs": [],
   "source": [
    "client = pymongo.MongoClient('localhost', 27017)"
   ]
  },
  {
   "cell_type": "code",
   "execution_count": 36,
   "metadata": {},
   "outputs": [],
   "source": [
    "db = client['chapter3']"
   ]
  },
  {
   "cell_type": "code",
   "execution_count": 37,
   "metadata": {},
   "outputs": [],
   "source": [
    "collection = db['income']"
   ]
  },
  {
   "cell_type": "code",
   "execution_count": 38,
   "metadata": {},
   "outputs": [],
   "source": [
    "with open('data/income_header.txt') as f_in:\n",
    "    columns_headings = f_in.readline()\n",
    "\n",
    "    "
   ]
  },
  {
   "cell_type": "code",
   "execution_count": 39,
   "metadata": {},
   "outputs": [
    {
     "data": {
      "text/plain": [
       "'age,workclass,fnlwgt,education,education-num,marital-status,occupation,relationship,race,sex,capital-gain,capital-loss,hours-per-week,native-country,label'"
      ]
     },
     "execution_count": 39,
     "metadata": {},
     "output_type": "execute_result"
    }
   ],
   "source": [
    "columns_headings"
   ]
  },
  {
   "cell_type": "code",
   "execution_count": 40,
   "metadata": {},
   "outputs": [],
   "source": [
    "columns_headings_list = columns_headings.split(',')"
   ]
  },
  {
   "cell_type": "code",
   "execution_count": 41,
   "metadata": {},
   "outputs": [
    {
     "data": {
      "text/plain": [
       "['age',\n",
       " 'workclass',\n",
       " 'fnlwgt',\n",
       " 'education',\n",
       " 'education-num',\n",
       " 'marital-status',\n",
       " 'occupation',\n",
       " 'relationship',\n",
       " 'race',\n",
       " 'sex',\n",
       " 'capital-gain',\n",
       " 'capital-loss',\n",
       " 'hours-per-week',\n",
       " 'native-country',\n",
       " 'label']"
      ]
     },
     "execution_count": 41,
     "metadata": {},
     "output_type": "execute_result"
    }
   ],
   "source": [
    "columns_headings_list"
   ]
  },
  {
   "cell_type": "code",
   "execution_count": 42,
   "metadata": {},
   "outputs": [],
   "source": [
    "row_dict_list = list()\n",
    "with open('data/income.txt') as f_in:\n",
    "    for line in f_in:\n",
    "        row_list = line.rstrip('\\n').split(',')\n",
    "        row_dict = dict(zip(columns_headings_list, row_list))\n",
    "        row_dict_list.append(row_dict)\n",
    "        collection.insert_one(row_dict)"
   ]
  },
  {
   "cell_type": "code",
   "execution_count": 43,
   "metadata": {},
   "outputs": [
    {
     "name": "stderr",
     "output_type": "stream",
     "text": [
      "<ipython-input-43-ac4899ba2df1>:1: DeprecationWarning: count is deprecated. Use estimated_document_count or count_documents instead. Please note that $where must be replaced by $expr, $near must be replaced by $geoWithin with $center, and $nearSphere must be replaced by $geoWithin with $centerSphere\n",
      "  collection.count() # should be = 32562\n"
     ]
    },
    {
     "data": {
      "text/plain": [
       "65124"
      ]
     },
     "execution_count": 43,
     "metadata": {},
     "output_type": "execute_result"
    }
   ],
   "source": [
    "collection.count() # should be = 32562"
   ]
  },
  {
   "cell_type": "markdown",
   "metadata": {},
   "source": [
    "## Checking data quality"
   ]
  },
  {
   "cell_type": "code",
   "execution_count": 56,
   "metadata": {},
   "outputs": [],
   "source": [
    "age39 = collection.find_one({'age':39})"
   ]
  },
  {
   "cell_type": "code",
   "execution_count": 57,
   "metadata": {},
   "outputs": [
    {
     "data": {
      "text/plain": [
       "{'_id': ObjectId('5fcf6d9ef9de2fc3e84a926a'),\n",
       " 'age': 39,\n",
       " 'workclass': ' State-gov',\n",
       " 'fnlwgt': ' 77516',\n",
       " 'education': ' Bachelors',\n",
       " 'education-num': ' 13',\n",
       " 'marital-status': ' Never-married',\n",
       " 'occupation': ' Adm-clerical',\n",
       " 'relationship': ' Not-in-family',\n",
       " 'race': ' White',\n",
       " 'sex': ' Male',\n",
       " 'capital-gain': ' 2174',\n",
       " 'capital-loss': ' 0',\n",
       " 'hours-per-week': ' 40',\n",
       " 'native-country': ' United-States',\n",
       " 'label': ' <=50K'}"
      ]
     },
     "execution_count": 57,
     "metadata": {},
     "output_type": "execute_result"
    }
   ],
   "source": [
    "age39"
   ]
  },
  {
   "cell_type": "code",
   "execution_count": 46,
   "metadata": {},
   "outputs": [
    {
     "data": {
      "text/plain": [
       "{'age': '39',\n",
       " 'workclass': ' State-gov',\n",
       " 'fnlwgt': ' 77516',\n",
       " 'education': ' Bachelors',\n",
       " 'education-num': ' 13',\n",
       " 'marital-status': ' Never-married',\n",
       " 'occupation': ' Adm-clerical',\n",
       " 'relationship': ' Not-in-family',\n",
       " 'race': ' White',\n",
       " 'sex': ' Male',\n",
       " 'capital-gain': ' 2174',\n",
       " 'capital-loss': ' 0',\n",
       " 'hours-per-week': ' 40',\n",
       " 'native-country': ' United-States',\n",
       " 'label': ' <=50K',\n",
       " '_id': ObjectId('5fcf6ba6f9de2fc3e84a1338')}"
      ]
     },
     "execution_count": 46,
     "metadata": {},
     "output_type": "execute_result"
    }
   ],
   "source": [
    "row_dict_list[0]"
   ]
  },
  {
   "cell_type": "code",
   "execution_count": 47,
   "metadata": {},
   "outputs": [
    {
     "data": {
      "text/plain": [
       "{'_id': ObjectId('5fce2820f9de2fc3e8499405'),\n",
       " 'age': '39',\n",
       " 'workclass': ' State-gov',\n",
       " 'fnlwgt': ' 77516',\n",
       " 'education': ' Bachelors',\n",
       " 'education-num': ' 13',\n",
       " 'marital-status': ' Never-married',\n",
       " 'occupation': ' Adm-clerical',\n",
       " 'relationship': ' Not-in-family',\n",
       " 'race': ' White',\n",
       " 'sex': ' Male',\n",
       " 'capital-gain': ' 2174',\n",
       " 'capital-loss': ' 0',\n",
       " 'hours-per-week': ' 40',\n",
       " 'native-country': ' United-States',\n",
       " 'label': ' <=50K'}"
      ]
     },
     "execution_count": 47,
     "metadata": {},
     "output_type": "execute_result"
    }
   ],
   "source": [
    "collection.find_one({})\n"
   ]
  },
  {
   "cell_type": "code",
   "execution_count": 60,
   "metadata": {},
   "outputs": [
    {
     "data": {
      "text/plain": [
       "<pymongo.results.DeleteResult at 0x7ff2622e1f40>"
      ]
     },
     "execution_count": 60,
     "metadata": {},
     "output_type": "execute_result"
    }
   ],
   "source": [
    "collection.delete_many({})"
   ]
  },
  {
   "cell_type": "code",
   "execution_count": 61,
   "metadata": {},
   "outputs": [
    {
     "name": "stderr",
     "output_type": "stream",
     "text": [
      "<ipython-input-61-7c4bc5758cb0>:1: DeprecationWarning: count is deprecated. Use estimated_document_count or count_documents instead. Please note that $where must be replaced by $expr, $near must be replaced by $geoWithin with $center, and $nearSphere must be replaced by $geoWithin with $centerSphere\n",
      "  collection.count()\n"
     ]
    },
    {
     "data": {
      "text/plain": [
       "0"
      ]
     },
     "execution_count": 61,
     "metadata": {},
     "output_type": "execute_result"
    }
   ],
   "source": [
    "collection.count()"
   ]
  },
  {
   "cell_type": "code",
   "execution_count": 62,
   "metadata": {},
   "outputs": [],
   "source": [
    "with open('data/income.txt') as f_in:\n",
    "    for line in f_in:\n",
    "        row_list = line.rstrip('\\n').split(',')\n",
    "        row_dict = dict(zip(columns_headings_list, row_list))\n",
    "        \n",
    "        try:\n",
    "            row_dict['age'] = int(row_dict['age']) # making sure that age is int\n",
    "            #row_dict_list.append(row_dict)\n",
    "            collection.insert_one(row_dict)\n",
    "        except:\n",
    "            pass\n",
    "        "
   ]
  },
  {
   "cell_type": "code",
   "execution_count": 63,
   "metadata": {},
   "outputs": [
    {
     "name": "stderr",
     "output_type": "stream",
     "text": [
      "<ipython-input-63-7c4bc5758cb0>:1: DeprecationWarning: count is deprecated. Use estimated_document_count or count_documents instead. Please note that $where must be replaced by $expr, $near must be replaced by $geoWithin with $center, and $nearSphere must be replaced by $geoWithin with $centerSphere\n",
      "  collection.count()\n"
     ]
    },
    {
     "data": {
      "text/plain": [
       "32561"
      ]
     },
     "execution_count": 63,
     "metadata": {},
     "output_type": "execute_result"
    }
   ],
   "source": [
    "collection.count()"
   ]
  },
  {
   "cell_type": "code",
   "execution_count": 70,
   "metadata": {},
   "outputs": [
    {
     "data": {
      "text/plain": [
       "pymongo.cursor.Cursor"
      ]
     },
     "execution_count": 70,
     "metadata": {},
     "output_type": "execute_result"
    }
   ],
   "source": [
    "over_35 = collection.find({'age': {\"$gt\":35}})\n",
    "type(over_35)"
   ]
  },
  {
   "cell_type": "code",
   "execution_count": 71,
   "metadata": {},
   "outputs": [
    {
     "data": {
      "text/plain": [
       "{'_id': ObjectId('5fcf6e82f9de2fc3e84b90cc'),\n",
       " 'age': 39,\n",
       " 'workclass': ' State-gov',\n",
       " 'fnlwgt': ' 77516',\n",
       " 'education': ' Bachelors',\n",
       " 'education-num': ' 13',\n",
       " 'marital-status': ' Never-married',\n",
       " 'occupation': ' Adm-clerical',\n",
       " 'relationship': ' Not-in-family',\n",
       " 'race': ' White',\n",
       " 'sex': ' Male',\n",
       " 'capital-gain': ' 2174',\n",
       " 'capital-loss': ' 0',\n",
       " 'hours-per-week': ' 40',\n",
       " 'native-country': ' United-States',\n",
       " 'label': ' <=50K'}"
      ]
     },
     "execution_count": 71,
     "metadata": {},
     "output_type": "execute_result"
    }
   ],
   "source": [
    "over_35.next()"
   ]
  },
  {
   "cell_type": "code",
   "execution_count": 72,
   "metadata": {},
   "outputs": [
    {
     "data": {
      "text/plain": [
       "{'_id': ObjectId('5fcf6e82f9de2fc3e84b90cd'),\n",
       " 'age': 50,\n",
       " 'workclass': ' Self-emp-not-inc',\n",
       " 'fnlwgt': ' 83311',\n",
       " 'education': ' Bachelors',\n",
       " 'education-num': ' 13',\n",
       " 'marital-status': ' Married-civ-spouse',\n",
       " 'occupation': ' Exec-managerial',\n",
       " 'relationship': ' Husband',\n",
       " 'race': ' White',\n",
       " 'sex': ' Male',\n",
       " 'capital-gain': ' 0',\n",
       " 'capital-loss': ' 0',\n",
       " 'hours-per-week': ' 13',\n",
       " 'native-country': ' United-States',\n",
       " 'label': ' <=50K'}"
      ]
     },
     "execution_count": 72,
     "metadata": {},
     "output_type": "execute_result"
    }
   ],
   "source": [
    "over_35.next()"
   ]
  },
  {
   "cell_type": "code",
   "execution_count": 73,
   "metadata": {},
   "outputs": [
    {
     "name": "stderr",
     "output_type": "stream",
     "text": [
      "<ipython-input-73-6e46c659321d>:1: DeprecationWarning: count is deprecated. Use Collection.count_documents instead.\n",
      "  over_35.count()\n"
     ]
    },
    {
     "data": {
      "text/plain": [
       "17636"
      ]
     },
     "execution_count": 73,
     "metadata": {},
     "output_type": "execute_result"
    }
   ],
   "source": [
    "over_35.count()"
   ]
  },
  {
   "cell_type": "markdown",
   "metadata": {},
   "source": [
    "## Timing of effective querying with `time`"
   ]
  },
  {
   "cell_type": "code",
   "execution_count": 74,
   "metadata": {},
   "outputs": [],
   "source": [
    "import time"
   ]
  },
  {
   "cell_type": "code",
   "execution_count": 77,
   "metadata": {},
   "outputs": [
    {
     "name": "stdout",
     "output_type": "stream",
     "text": [
      "0.00010895729064941406\n"
     ]
    }
   ],
   "source": [
    "start = time.time()\n",
    "age50 = collection.find({'age': {'$eq':50}})\n",
    "end = time.time()\n",
    "print(end - start)"
   ]
  },
  {
   "cell_type": "code",
   "execution_count": 83,
   "metadata": {},
   "outputs": [],
   "source": [
    "index_result = db.profiles.create_index(\n",
    "    [('age', pymongo.ASCENDING)], unique=False)"
   ]
  },
  {
   "cell_type": "code",
   "execution_count": 86,
   "metadata": {},
   "outputs": [
    {
     "name": "stdout",
     "output_type": "stream",
     "text": [
      "0.00011301040649414062\n"
     ]
    }
   ],
   "source": [
    "start = time.time()\n",
    "age45 = collection.find({'age': {'$eq':45}})\n",
    "end = time.time()\n",
    "print(end - start)"
   ]
  },
  {
   "cell_type": "markdown",
   "metadata": {},
   "source": [
    "## Loading data into `DataFrame`"
   ]
  },
  {
   "cell_type": "code",
   "execution_count": 87,
   "metadata": {},
   "outputs": [],
   "source": [
    "import pandas as pd"
   ]
  },
  {
   "cell_type": "code",
   "execution_count": 91,
   "metadata": {},
   "outputs": [],
   "source": [
    "income_df = pd.DataFrame(list(collection.find()))"
   ]
  },
  {
   "cell_type": "code",
   "execution_count": 92,
   "metadata": {},
   "outputs": [
    {
     "data": {
      "text/html": [
       "<div>\n",
       "<style scoped>\n",
       "    .dataframe tbody tr th:only-of-type {\n",
       "        vertical-align: middle;\n",
       "    }\n",
       "\n",
       "    .dataframe tbody tr th {\n",
       "        vertical-align: top;\n",
       "    }\n",
       "\n",
       "    .dataframe thead th {\n",
       "        text-align: right;\n",
       "    }\n",
       "</style>\n",
       "<table border=\"1\" class=\"dataframe\">\n",
       "  <thead>\n",
       "    <tr style=\"text-align: right;\">\n",
       "      <th></th>\n",
       "      <th>_id</th>\n",
       "      <th>age</th>\n",
       "      <th>workclass</th>\n",
       "      <th>fnlwgt</th>\n",
       "      <th>education</th>\n",
       "      <th>education-num</th>\n",
       "      <th>marital-status</th>\n",
       "      <th>occupation</th>\n",
       "      <th>relationship</th>\n",
       "      <th>race</th>\n",
       "      <th>sex</th>\n",
       "      <th>capital-gain</th>\n",
       "      <th>capital-loss</th>\n",
       "      <th>hours-per-week</th>\n",
       "      <th>native-country</th>\n",
       "      <th>label</th>\n",
       "    </tr>\n",
       "  </thead>\n",
       "  <tbody>\n",
       "    <tr>\n",
       "      <th>0</th>\n",
       "      <td>5fcf6e82f9de2fc3e84b90cc</td>\n",
       "      <td>39</td>\n",
       "      <td>State-gov</td>\n",
       "      <td>77516</td>\n",
       "      <td>Bachelors</td>\n",
       "      <td>13</td>\n",
       "      <td>Never-married</td>\n",
       "      <td>Adm-clerical</td>\n",
       "      <td>Not-in-family</td>\n",
       "      <td>White</td>\n",
       "      <td>Male</td>\n",
       "      <td>2174</td>\n",
       "      <td>0</td>\n",
       "      <td>40</td>\n",
       "      <td>United-States</td>\n",
       "      <td>&lt;=50K</td>\n",
       "    </tr>\n",
       "    <tr>\n",
       "      <th>1</th>\n",
       "      <td>5fcf6e82f9de2fc3e84b90cd</td>\n",
       "      <td>50</td>\n",
       "      <td>Self-emp-not-inc</td>\n",
       "      <td>83311</td>\n",
       "      <td>Bachelors</td>\n",
       "      <td>13</td>\n",
       "      <td>Married-civ-spouse</td>\n",
       "      <td>Exec-managerial</td>\n",
       "      <td>Husband</td>\n",
       "      <td>White</td>\n",
       "      <td>Male</td>\n",
       "      <td>0</td>\n",
       "      <td>0</td>\n",
       "      <td>13</td>\n",
       "      <td>United-States</td>\n",
       "      <td>&lt;=50K</td>\n",
       "    </tr>\n",
       "    <tr>\n",
       "      <th>2</th>\n",
       "      <td>5fcf6e82f9de2fc3e84b90ce</td>\n",
       "      <td>38</td>\n",
       "      <td>Private</td>\n",
       "      <td>215646</td>\n",
       "      <td>HS-grad</td>\n",
       "      <td>9</td>\n",
       "      <td>Divorced</td>\n",
       "      <td>Handlers-cleaners</td>\n",
       "      <td>Not-in-family</td>\n",
       "      <td>White</td>\n",
       "      <td>Male</td>\n",
       "      <td>0</td>\n",
       "      <td>0</td>\n",
       "      <td>40</td>\n",
       "      <td>United-States</td>\n",
       "      <td>&lt;=50K</td>\n",
       "    </tr>\n",
       "    <tr>\n",
       "      <th>3</th>\n",
       "      <td>5fcf6e82f9de2fc3e84b90cf</td>\n",
       "      <td>53</td>\n",
       "      <td>Private</td>\n",
       "      <td>234721</td>\n",
       "      <td>11th</td>\n",
       "      <td>7</td>\n",
       "      <td>Married-civ-spouse</td>\n",
       "      <td>Handlers-cleaners</td>\n",
       "      <td>Husband</td>\n",
       "      <td>Black</td>\n",
       "      <td>Male</td>\n",
       "      <td>0</td>\n",
       "      <td>0</td>\n",
       "      <td>40</td>\n",
       "      <td>United-States</td>\n",
       "      <td>&lt;=50K</td>\n",
       "    </tr>\n",
       "    <tr>\n",
       "      <th>4</th>\n",
       "      <td>5fcf6e82f9de2fc3e84b90d0</td>\n",
       "      <td>28</td>\n",
       "      <td>Private</td>\n",
       "      <td>338409</td>\n",
       "      <td>Bachelors</td>\n",
       "      <td>13</td>\n",
       "      <td>Married-civ-spouse</td>\n",
       "      <td>Prof-specialty</td>\n",
       "      <td>Wife</td>\n",
       "      <td>Black</td>\n",
       "      <td>Female</td>\n",
       "      <td>0</td>\n",
       "      <td>0</td>\n",
       "      <td>40</td>\n",
       "      <td>Cuba</td>\n",
       "      <td>&lt;=50K</td>\n",
       "    </tr>\n",
       "  </tbody>\n",
       "</table>\n",
       "</div>"
      ],
      "text/plain": [
       "                        _id  age          workclass   fnlwgt   education  \\\n",
       "0  5fcf6e82f9de2fc3e84b90cc   39          State-gov    77516   Bachelors   \n",
       "1  5fcf6e82f9de2fc3e84b90cd   50   Self-emp-not-inc    83311   Bachelors   \n",
       "2  5fcf6e82f9de2fc3e84b90ce   38            Private   215646     HS-grad   \n",
       "3  5fcf6e82f9de2fc3e84b90cf   53            Private   234721        11th   \n",
       "4  5fcf6e82f9de2fc3e84b90d0   28            Private   338409   Bachelors   \n",
       "\n",
       "  education-num       marital-status          occupation    relationship  \\\n",
       "0            13        Never-married        Adm-clerical   Not-in-family   \n",
       "1            13   Married-civ-spouse     Exec-managerial         Husband   \n",
       "2             9             Divorced   Handlers-cleaners   Not-in-family   \n",
       "3             7   Married-civ-spouse   Handlers-cleaners         Husband   \n",
       "4            13   Married-civ-spouse      Prof-specialty            Wife   \n",
       "\n",
       "     race      sex capital-gain capital-loss hours-per-week  native-country  \\\n",
       "0   White     Male         2174            0             40   United-States   \n",
       "1   White     Male            0            0             13   United-States   \n",
       "2   White     Male            0            0             40   United-States   \n",
       "3   Black     Male            0            0             40   United-States   \n",
       "4   Black   Female            0            0             40            Cuba   \n",
       "\n",
       "    label  \n",
       "0   <=50K  \n",
       "1   <=50K  \n",
       "2   <=50K  \n",
       "3   <=50K  \n",
       "4   <=50K  "
      ]
     },
     "execution_count": 92,
     "metadata": {},
     "output_type": "execute_result"
    }
   ],
   "source": [
    "income_df.head()"
   ]
  },
  {
   "cell_type": "code",
   "execution_count": 93,
   "metadata": {},
   "outputs": [
    {
     "data": {
      "text/plain": [
       "count    32561.000000\n",
       "mean        38.581647\n",
       "std         13.640433\n",
       "min         17.000000\n",
       "25%         28.000000\n",
       "50%         37.000000\n",
       "75%         48.000000\n",
       "max         90.000000\n",
       "Name: age, dtype: float64"
      ]
     },
     "execution_count": 93,
     "metadata": {},
     "output_type": "execute_result"
    }
   ],
   "source": [
    "income_df['age'].describe()"
   ]
  },
  {
   "cell_type": "code",
   "execution_count": 95,
   "metadata": {},
   "outputs": [
    {
     "data": {
      "text/plain": [
       "count        32561\n",
       "unique          16\n",
       "top        HS-grad\n",
       "freq         10501\n",
       "Name: education, dtype: object"
      ]
     },
     "execution_count": 95,
     "metadata": {},
     "output_type": "execute_result"
    }
   ],
   "source": [
    "income_df['education'].describe()"
   ]
  },
  {
   "cell_type": "markdown",
   "metadata": {},
   "source": [
    "#### Quick check of yahoo finance"
   ]
  },
  {
   "cell_type": "code",
   "execution_count": 6,
   "metadata": {},
   "outputs": [],
   "source": [
    "import yfinance as yf\n",
    "import pandas as pd\n",
    "import matplotlib.pyplot as plt\n",
    "%matplotlib inline"
   ]
  },
  {
   "cell_type": "code",
   "execution_count": 7,
   "metadata": {},
   "outputs": [],
   "source": [
    "stocks = [\"AAPL\", \"GOOGL\"]"
   ]
  },
  {
   "cell_type": "code",
   "execution_count": 8,
   "metadata": {},
   "outputs": [
    {
     "name": "stdout",
     "output_type": "stream",
     "text": [
      "[*********************100%***********************]  2 of 2 completed\n"
     ]
    }
   ],
   "source": [
    "data = yf.download(stocks, \n",
    "                   start=\"2020-01-01\", \n",
    "                   end=\"2020-11-28\")"
   ]
  },
  {
   "cell_type": "code",
   "execution_count": 10,
   "metadata": {},
   "outputs": [
    {
     "data": {
      "text/html": [
       "<div>\n",
       "<style scoped>\n",
       "    .dataframe tbody tr th:only-of-type {\n",
       "        vertical-align: middle;\n",
       "    }\n",
       "\n",
       "    .dataframe tbody tr th {\n",
       "        vertical-align: top;\n",
       "    }\n",
       "\n",
       "    .dataframe thead tr th {\n",
       "        text-align: left;\n",
       "    }\n",
       "\n",
       "    .dataframe thead tr:last-of-type th {\n",
       "        text-align: right;\n",
       "    }\n",
       "</style>\n",
       "<table border=\"1\" class=\"dataframe\">\n",
       "  <thead>\n",
       "    <tr>\n",
       "      <th></th>\n",
       "      <th colspan=\"2\" halign=\"left\">Adj Close</th>\n",
       "      <th colspan=\"2\" halign=\"left\">Close</th>\n",
       "      <th colspan=\"2\" halign=\"left\">High</th>\n",
       "      <th colspan=\"2\" halign=\"left\">Low</th>\n",
       "      <th colspan=\"2\" halign=\"left\">Open</th>\n",
       "      <th colspan=\"2\" halign=\"left\">Volume</th>\n",
       "    </tr>\n",
       "    <tr>\n",
       "      <th></th>\n",
       "      <th>AAPL</th>\n",
       "      <th>GOOGL</th>\n",
       "      <th>AAPL</th>\n",
       "      <th>GOOGL</th>\n",
       "      <th>AAPL</th>\n",
       "      <th>GOOGL</th>\n",
       "      <th>AAPL</th>\n",
       "      <th>GOOGL</th>\n",
       "      <th>AAPL</th>\n",
       "      <th>GOOGL</th>\n",
       "      <th>AAPL</th>\n",
       "      <th>GOOGL</th>\n",
       "    </tr>\n",
       "    <tr>\n",
       "      <th>Date</th>\n",
       "      <th></th>\n",
       "      <th></th>\n",
       "      <th></th>\n",
       "      <th></th>\n",
       "      <th></th>\n",
       "      <th></th>\n",
       "      <th></th>\n",
       "      <th></th>\n",
       "      <th></th>\n",
       "      <th></th>\n",
       "      <th></th>\n",
       "      <th></th>\n",
       "    </tr>\n",
       "  </thead>\n",
       "  <tbody>\n",
       "    <tr>\n",
       "      <th>2020-01-02</th>\n",
       "      <td>73.840042</td>\n",
       "      <td>1368.680054</td>\n",
       "      <td>75.087502</td>\n",
       "      <td>1368.680054</td>\n",
       "      <td>75.150002</td>\n",
       "      <td>1368.680054</td>\n",
       "      <td>73.797501</td>\n",
       "      <td>1346.489990</td>\n",
       "      <td>74.059998</td>\n",
       "      <td>1348.410034</td>\n",
       "      <td>135480400</td>\n",
       "      <td>1363900</td>\n",
       "    </tr>\n",
       "    <tr>\n",
       "      <th>2020-01-03</th>\n",
       "      <td>73.122154</td>\n",
       "      <td>1361.520020</td>\n",
       "      <td>74.357498</td>\n",
       "      <td>1361.520020</td>\n",
       "      <td>75.144997</td>\n",
       "      <td>1373.750000</td>\n",
       "      <td>74.125000</td>\n",
       "      <td>1347.319946</td>\n",
       "      <td>74.287498</td>\n",
       "      <td>1348.000000</td>\n",
       "      <td>146322800</td>\n",
       "      <td>1170400</td>\n",
       "    </tr>\n",
       "    <tr>\n",
       "      <th>2020-01-06</th>\n",
       "      <td>73.704819</td>\n",
       "      <td>1397.810059</td>\n",
       "      <td>74.949997</td>\n",
       "      <td>1397.810059</td>\n",
       "      <td>74.989998</td>\n",
       "      <td>1398.319946</td>\n",
       "      <td>73.187500</td>\n",
       "      <td>1351.000000</td>\n",
       "      <td>73.447502</td>\n",
       "      <td>1351.630005</td>\n",
       "      <td>118387200</td>\n",
       "      <td>2338400</td>\n",
       "    </tr>\n",
       "    <tr>\n",
       "      <th>2020-01-07</th>\n",
       "      <td>73.358185</td>\n",
       "      <td>1395.109985</td>\n",
       "      <td>74.597504</td>\n",
       "      <td>1395.109985</td>\n",
       "      <td>75.224998</td>\n",
       "      <td>1403.500000</td>\n",
       "      <td>74.370003</td>\n",
       "      <td>1391.560059</td>\n",
       "      <td>74.959999</td>\n",
       "      <td>1400.459961</td>\n",
       "      <td>108872000</td>\n",
       "      <td>1716500</td>\n",
       "    </tr>\n",
       "    <tr>\n",
       "      <th>2020-01-08</th>\n",
       "      <td>74.538239</td>\n",
       "      <td>1405.040039</td>\n",
       "      <td>75.797501</td>\n",
       "      <td>1405.040039</td>\n",
       "      <td>76.110001</td>\n",
       "      <td>1411.849976</td>\n",
       "      <td>74.290001</td>\n",
       "      <td>1392.630005</td>\n",
       "      <td>74.290001</td>\n",
       "      <td>1394.819946</td>\n",
       "      <td>132079200</td>\n",
       "      <td>1765700</td>\n",
       "    </tr>\n",
       "  </tbody>\n",
       "</table>\n",
       "</div>"
      ],
      "text/plain": [
       "            Adj Close                   Close                    High  \\\n",
       "                 AAPL        GOOGL       AAPL        GOOGL       AAPL   \n",
       "Date                                                                    \n",
       "2020-01-02  73.840042  1368.680054  75.087502  1368.680054  75.150002   \n",
       "2020-01-03  73.122154  1361.520020  74.357498  1361.520020  75.144997   \n",
       "2020-01-06  73.704819  1397.810059  74.949997  1397.810059  74.989998   \n",
       "2020-01-07  73.358185  1395.109985  74.597504  1395.109985  75.224998   \n",
       "2020-01-08  74.538239  1405.040039  75.797501  1405.040039  76.110001   \n",
       "\n",
       "                               Low                    Open               \\\n",
       "                  GOOGL       AAPL        GOOGL       AAPL        GOOGL   \n",
       "Date                                                                      \n",
       "2020-01-02  1368.680054  73.797501  1346.489990  74.059998  1348.410034   \n",
       "2020-01-03  1373.750000  74.125000  1347.319946  74.287498  1348.000000   \n",
       "2020-01-06  1398.319946  73.187500  1351.000000  73.447502  1351.630005   \n",
       "2020-01-07  1403.500000  74.370003  1391.560059  74.959999  1400.459961   \n",
       "2020-01-08  1411.849976  74.290001  1392.630005  74.290001  1394.819946   \n",
       "\n",
       "               Volume           \n",
       "                 AAPL    GOOGL  \n",
       "Date                            \n",
       "2020-01-02  135480400  1363900  \n",
       "2020-01-03  146322800  1170400  \n",
       "2020-01-06  118387200  2338400  \n",
       "2020-01-07  108872000  1716500  \n",
       "2020-01-08  132079200  1765700  "
      ]
     },
     "execution_count": 10,
     "metadata": {},
     "output_type": "execute_result"
    }
   ],
   "source": [
    "data.head()"
   ]
  },
  {
   "cell_type": "code",
   "execution_count": 11,
   "metadata": {},
   "outputs": [],
   "source": [
    "closedStocks = data.loc[:, \"Close\"].copy()"
   ]
  },
  {
   "cell_type": "code",
   "execution_count": 13,
   "metadata": {},
   "outputs": [
    {
     "data": {
      "image/png": "[encoded data removed]",
      "text/plain": [
       "<Figure size 1296x576 with 1 Axes>"
      ]
     },
     "metadata": {
      "needs_background": "light"
     },
     "output_type": "display_data"
    }
   ],
   "source": [
    "closedStocks.plot(figsize = (18, 8), fontsize = 15)\n",
    "plt.style.use(\"seaborn\")\n",
    "plt.show();"
   ]
  },
  {
   "cell_type": "code",
   "execution_count": 15,
   "metadata": {},
   "outputs": [
    {
     "data": {
      "image/png": "[encoded data removed]",
      "text/plain": [
       "<Figure size 1296x576 with 1 Axes>"
      ]
     },
     "metadata": {},
     "output_type": "display_data"
    }
   ],
   "source": [
    "norm = closedStocks.div(closedStocks.iloc[0]).mul(100)\n",
    "norm.plot(figsize = (18, 8), fontsize = 15)\n",
    "plt.style.use(\"seaborn\")\n",
    "plt.show();"
   ]
  },
  {
   "cell_type": "code",
   "execution_count": null,
   "metadata": {},
   "outputs": [],
   "source": []
  }
 ],
 "metadata": {
  "kernelspec": {
   "display_name": "Python 3",
   "language": "python",
   "name": "python3"
  },
  "language_info": {
   "codemirror_mode": {
    "name": "ipython",
    "version": 3
   },
   "file_extension": ".py",
   "mimetype": "text/x-python",
   "name": "python",
   "nbconvert_exporter": "python",
   "pygments_lexer": "ipython3",
   "version": "3.8.3"
  }
 },
 "nbformat": 4,
 "nbformat_minor": 4
}
